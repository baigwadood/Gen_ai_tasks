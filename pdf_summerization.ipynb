{
 "cells": [
  {
   "cell_type": "code",
   "execution_count": 2,
   "metadata": {},
   "outputs": [],
   "source": [
    "from langchain.document_loaders import PyPDFLoader\n",
    "\n",
    "loader = PyPDFLoader(r\"crime-and-punishment.pdf\")\n",
    "pages = loader.load()\n",
    "\n",
    "pages = pages[26:277]\n",
    "\n",
    "text = \"\"\n",
    "\n",
    "for page in pages:\n",
    "    text += page.page_content\n",
    "    \n",
    "text = text.replace('\\t', ' ')"
   ]
  },
  {
   "cell_type": "code",
   "execution_count": 5,
   "metadata": {},
   "outputs": [
    {
     "name": "stderr",
     "output_type": "stream",
     "text": [
      "c:\\Users\\2017e\\miniconda3\\envs\\ragui\\Lib\\site-packages\\langchain_core\\_api\\deprecation.py:117: LangChainDeprecationWarning: The class `langchain_community.llms.openai.OpenAI` was deprecated in langchain-community 0.0.10 and will be removed in 0.2.0. An updated version of the class exists in the langchain-openai package and should be used instead. To use it run `pip install -U langchain-openai` and import as `from langchain_openai import OpenAI`.\n",
      "  warn_deprecated(\n"
     ]
    },
    {
     "name": "stdout",
     "output_type": "stream",
     "text": [
      "This book has 99932 tokens in it\n"
     ]
    }
   ],
   "source": [
    "from langchain import OpenAI\n",
    "llm = OpenAI(temperature=0, openai_api_key=openai_api_key)\n",
    "\n",
    "num_tokens = llm.get_num_tokens(text)\n",
    "\n",
    "print (f\"This book has {num_tokens} tokens in it\")"
   ]
  },
  {
   "cell_type": "code",
   "execution_count": 7,
   "metadata": {},
   "outputs": [],
   "source": [
    "# Loaders\n",
    "from langchain.schema import Document\n",
    "\n",
    "# Splitters\n",
    "from langchain.text_splitter import RecursiveCharacterTextSplitter\n",
    "\n",
    "# Model\n",
    "from langchain.chat_models import ChatOpenAI\n",
    "\n",
    "# Embedding Support\n",
    "from langchain.vectorstores import FAISS\n",
    "from langchain.embeddings import OpenAIEmbeddings\n",
    "\n",
    "# Summarizer we'll use for Map Reduce\n",
    "from langchain.chains.summarize import load_summarize_chain\n",
    "\n",
    "# Data Science\n",
    "import numpy as np\n",
    "from sklearn.cluster import KMeans\n",
    "openai_api_key=''"
   ]
  },
  {
   "cell_type": "code",
   "execution_count": 8,
   "metadata": {},
   "outputs": [],
   "source": [
    "text_splitter = RecursiveCharacterTextSplitter(separators=[\"\\n\\n\", \"\\n\", \"\\t\"], chunk_size=10000, chunk_overlap=3000)\n",
    "\n",
    "docs = text_splitter.create_documents([text])"
   ]
  },
  {
   "cell_type": "code",
   "execution_count": 9,
   "metadata": {},
   "outputs": [
    {
     "name": "stdout",
     "output_type": "stream",
     "text": [
      "Now our book is split up into 55 documents\n"
     ]
    }
   ],
   "source": [
    "num_documents = len(docs)\n",
    "\n",
    "print (f\"Now our book is split up into {num_documents} documents\")"
   ]
  },
  {
   "cell_type": "code",
   "execution_count": 10,
   "metadata": {},
   "outputs": [
    {
     "name": "stderr",
     "output_type": "stream",
     "text": [
      "c:\\Users\\2017e\\miniconda3\\envs\\ragui\\Lib\\site-packages\\langchain_core\\_api\\deprecation.py:117: LangChainDeprecationWarning: The class `langchain_community.embeddings.openai.OpenAIEmbeddings` was deprecated in langchain-community 0.0.9 and will be removed in 0.2.0. An updated version of the class exists in the langchain-openai package and should be used instead. To use it run `pip install -U langchain-openai` and import as `from langchain_openai import OpenAIEmbeddings`.\n",
      "  warn_deprecated(\n"
     ]
    }
   ],
   "source": [
    "embeddings = OpenAIEmbeddings(openai_api_key=openai_api_key)\n",
    "\n",
    "vectors = embeddings.embed_documents([x.page_content for x in docs])"
   ]
  },
  {
   "cell_type": "code",
   "execution_count": 11,
   "metadata": {},
   "outputs": [],
   "source": [
    "num_clusters = 11\n",
    "\n",
    "kmeans = KMeans(n_clusters=num_clusters, random_state=42).fit(vectors)"
   ]
  },
  {
   "cell_type": "code",
   "execution_count": 12,
   "metadata": {},
   "outputs": [
    {
     "data": {
      "text/plain": [
       "array([ 3,  3,  8,  8,  8,  2,  2,  2,  2,  2,  8,  5,  1,  6,  5,  5,  5,\n",
       "        4,  4,  0,  0,  6,  6,  6,  6,  6, 10, 10,  5,  9,  6,  8,  8,  1,\n",
       "        8,  1,  1,  1,  1,  1,  1,  1,  1,  1,  8,  7,  7,  1,  1,  8,  9,\n",
       "        9,  9,  9,  1])"
      ]
     },
     "execution_count": 12,
     "metadata": {},
     "output_type": "execute_result"
    }
   ],
   "source": [
    "kmeans.labels_\n"
   ]
  },
  {
   "cell_type": "code",
   "execution_count": 15,
   "metadata": {},
   "outputs": [],
   "source": [
    "\n",
    "closest_indices = []\n",
    "\n",
    "for i in range(num_clusters):\n",
    "    \n",
    "    distances = np.linalg.norm(vectors - kmeans.cluster_centers_[i], axis=1)\n",
    "    \n",
    "    closest_index = np.argmin(distances)\n",
    "    \n",
    "    closest_indices.append(closest_index)"
   ]
  },
  {
   "cell_type": "code",
   "execution_count": 16,
   "metadata": {},
   "outputs": [
    {
     "data": {
      "text/plain": [
       "[0, 3, 8, 15, 17, 19, 23, 26, 39, 45, 51]"
      ]
     },
     "execution_count": 16,
     "metadata": {},
     "output_type": "execute_result"
    }
   ],
   "source": [
    "selected_indices = sorted(closest_indices)\n",
    "selected_indices"
   ]
  },
  {
   "cell_type": "code",
   "execution_count": 17,
   "metadata": {},
   "outputs": [
    {
     "name": "stderr",
     "output_type": "stream",
     "text": [
      "c:\\Users\\2017e\\miniconda3\\envs\\ragui\\Lib\\site-packages\\langchain_core\\_api\\deprecation.py:117: LangChainDeprecationWarning: The class `langchain_community.chat_models.openai.ChatOpenAI` was deprecated in langchain-community 0.0.10 and will be removed in 0.2.0. An updated version of the class exists in the langchain-openai package and should be used instead. To use it run `pip install -U langchain-openai` and import as `from langchain_openai import ChatOpenAI`.\n",
      "  warn_deprecated(\n"
     ]
    }
   ],
   "source": [
    "llm3 = ChatOpenAI(temperature=0,\n",
    "                 openai_api_key=openai_api_key,\n",
    "                 max_tokens=1000,\n",
    "                 model='gpt-3.5-turbo'\n",
    "                )"
   ]
  },
  {
   "cell_type": "code",
   "execution_count": 19,
   "metadata": {},
   "outputs": [],
   "source": [
    "from langchain_core.prompts import PromptTemplate\n",
    "\n",
    "map_prompt = \"\"\"\n",
    "You will be given a single passage of a book. This section will be enclosed in triple backticks (```)\n",
    "Your goal is to give a summary of this section so that a reader will have a full understanding of what happened.\n",
    "Your response should be at least three paragraphs and fully encompass what was said in the passage.\n",
    "\n",
    "```{text}```\n",
    "FULL SUMMARY:\n",
    "\"\"\"\n",
    "map_prompt_template = PromptTemplate(template=map_prompt, input_variables=[\"text\"])"
   ]
  },
  {
   "cell_type": "code",
   "execution_count": 20,
   "metadata": {},
   "outputs": [],
   "source": [
    "map_chain = load_summarize_chain(llm=llm3,\n",
    "                             chain_type=\"stuff\",\n",
    "                             prompt=map_prompt_template)"
   ]
  },
  {
   "cell_type": "code",
   "execution_count": 21,
   "metadata": {},
   "outputs": [],
   "source": [
    "selected_docs = [docs[doc] for doc in selected_indices]\n"
   ]
  },
  {
   "cell_type": "code",
   "execution_count": 22,
   "metadata": {},
   "outputs": [
    {
     "name": "stderr",
     "output_type": "stream",
     "text": [
      "c:\\Users\\2017e\\miniconda3\\envs\\ragui\\Lib\\site-packages\\langchain_core\\_api\\deprecation.py:117: LangChainDeprecationWarning: The function `run` was deprecated in LangChain 0.1.0 and will be removed in 0.2.0. Use invoke instead.\n",
      "  warn_deprecated(\n"
     ]
    },
    {
     "name": "stdout",
     "output_type": "stream",
     "text": [
      "Summary #0 (chunk #0) - Preview: In this passage from Crime and Punishment, Marmeladov recounts the tragic story of his wife, Katerina Ivanovna, and their struggles with poverty and hardship. After her first husband's death, Katerina was left with three children in a remote district \n",
      "\n",
      "Summary #1 (chunk #3) - Preview: In this passage from \"Crime and Punishment,\" we are introduced to the chaotic and impoverished living conditions of the Marmeladov family. The room they occupy is cramped and dingy, with a sofa covered in holes and a kitchen table that is unpainted a \n",
      "\n",
      "Summary #2 (chunk #8) - Preview: In this passage, Raskolnikov receives a letter from his mother, Pulcheria Raskolnikov, and his sister, Dounia. The letter discusses their plans to travel to meet him, as well as Dounia's upcoming marriage to Mr. Luzhin. Pulcheria expresses her love f \n",
      "\n",
      "Summary #3 (chunk #15) - Preview: In this passage from Crime and Punishment, the protagonist, Raskolnikov, experiences a moment of clarity and freedom as he renounces a troubling dream. He crosses a bridge and feels a sense of relief, as if a burden has been lifted from his heart. De \n",
      "\n",
      "Summary #4 (chunk #17) - Preview: In this passage, the protagonist is shown to be in a state of deep contemplation and turmoil as he grapples with the idea of committing a heinous act. He is haunted by strange daydreams and experiences a feverish haste as he prepares to carry out his \n",
      "\n",
      "Summary #5 (chunk #19) - Preview: In this passage, the protagonist, Raskolnikov, is shown approaching the home of an old woman with the intention of committing a crime. He carefully navigates his way to her apartment, trying to avoid suspicion and contemplating various thoughts along \n",
      "\n",
      "Summary #6 (chunk #23) - Preview: In this passage from Crime and Punishment, Raskolnikov is seen deserting his sentry duty and going down the stairs in a hurry. He is filled with despair as he tries to evade being caught by several men who are approaching him. In a stroke of luck, he \n",
      "\n",
      "Summary #7 (chunk #26) - Preview: In this passage from Crime and Punishment, Raskolnikov finds himself in a government office facing accusations of owing money to the widow of the assessor Zarnitsyn. Despite his initial confusion, he experiences a sudden sense of relief and joy upon  \n",
      "\n",
      "Summary #8 (chunk #39) - Preview: In this passage, the narrator recounts a chaotic scene where he and Dmitri engage in a friendly scuffle, which leads to the discovery of a pair of earrings in a box. The narrator then goes on to explain how Nikolay, a suspect in a murder case, found  \n",
      "\n",
      "Summary #9 (chunk #45) - Preview: In this passage from Crime and Punishment, Raskolnikov visits a restaurant and sits down to read old newspapers while drinking tea. He comes across an article about a murder and becomes eager to read more about it in the following editions. Zametov,  \n",
      "\n",
      "Summary #10 (chunk #51) - Preview: In this passage from the book, a man named Marmeladov is brought into a crowded room after being injured in an accident. Raskolnikov, a character in the story, takes charge and sends for a doctor while trying to reassure Marmeladov's wife, Katerina I \n",
      "\n"
     ]
    }
   ],
   "source": [
    "summary_list = []\n",
    "\n",
    "for i, doc in enumerate(selected_docs):\n",
    "    \n",
    "    chunk_summary = map_chain.run([doc])\n",
    "    \n",
    "    summary_list.append(chunk_summary)\n",
    "    \n",
    "    print (f\"Summary #{i} (chunk #{selected_indices[i]}) - Preview: {chunk_summary[:250]} \\n\")"
   ]
  },
  {
   "cell_type": "code",
   "execution_count": 23,
   "metadata": {},
   "outputs": [
    {
     "name": "stdout",
     "output_type": "stream",
     "text": [
      "Your total summary has 3379 tokens\n"
     ]
    }
   ],
   "source": [
    "summaries = \"\\n\".join(summary_list)\n",
    "\n",
    "# Convert it back to a document\n",
    "summaries = Document(page_content=summaries)\n",
    "\n",
    "print (f\"Your total summary has {llm.get_num_tokens(summaries.page_content)} tokens\")"
   ]
  },
  {
   "cell_type": "code",
   "execution_count": 114,
   "metadata": {},
   "outputs": [],
   "source": [
    "llm4 = ChatOpenAI(temperature=0,\n",
    "                 openai_api_key=openai_api_key,\n",
    "                 max_tokens=4500,\n",
    "                 model='gpt-4',\n",
    "                 request_timeout=120\n",
    "                )"
   ]
  },
  {
   "cell_type": "code",
   "execution_count": 116,
   "metadata": {},
   "outputs": [],
   "source": [
    "\n",
    "combine_prompt = \"\"\"\n",
    "You will be given a series of summaries from a book. The summaries will be enclosed in triple backticks (```)\n",
    "The reader should be able to grasp what happened in the book.\n",
    "Summery must be of 5000 words.\n",
    "\n",
    "```{text}```\n",
    "SUMMARY:\n",
    "\"\"\"\n",
    "\n",
    "\n",
    "\n",
    "combine_prompt_template = PromptTemplate(template=combine_prompt, input_variables=[\"text\"])"
   ]
  },
  {
   "cell_type": "code",
   "execution_count": 117,
   "metadata": {},
   "outputs": [],
   "source": [
    "reduce_chain = load_summarize_chain(llm=llm4,\n",
    "                             chain_type=\"stuff\",\n",
    "                             prompt=combine_prompt_template,\n",
    "                                   )"
   ]
  },
  {
   "cell_type": "code",
   "execution_count": 121,
   "metadata": {},
   "outputs": [],
   "source": [
    "output = reduce_chain.run([summaries])\n"
   ]
  },
  {
   "cell_type": "code",
   "execution_count": 122,
   "metadata": {},
   "outputs": [
    {
     "name": "stdout",
     "output_type": "stream",
     "text": [
      "\"Crime and Punishment\" is a novel that explores the themes of poverty, sacrifice, and resilience in the face of adversity. The story revolves around the lives of several characters, including Marmeladov, his wife Katerina Ivanovna, their daughter Sonia, and Raskolnikov, a young man grappling with his own moral dilemmas.\n",
      "\n",
      "Marmeladov recounts his family's struggles with poverty and hardship, which have led to his daughter Sonia turning to prostitution to support them. Despite their dire circumstances, Marmeladov expresses gratitude for the sacrifices made by his wife and daughter. The family's living conditions are depicted as chaotic and impoverished, with Katerina Ivanovna often in a state of feverish emotion due to their desperate situation.\n",
      "\n",
      "Raskolnikov, on the other hand, lives in isolation, consumed by his own thoughts and neglecting his basic needs. He receives a letter from his mother and sister, revealing their plans to visit him and his sister's upcoming marriage to Mr. Luzhin. Raskolnikov is upset by this news, viewing Mr. Luzhin as a man driven by business interests rather than genuine love for his sister.\n",
      "\n",
      "Raskolnikov's life takes a turn when he overhears a conversation that provides him with information about a pawnbroker and her sister. This chance encounter leads him to contemplate a heinous act, which he meticulously plans out. Despite his careful planning, he is plagued by doubts and uncertainties about his actions.\n",
      "\n",
      "Raskolnikov eventually carries out his plan, committing a crime that leaves him in a state of panic and confusion. He tries to cover his tracks by removing any evidence that could incriminate him, but his guilt and paranoia lead him to question his actions and fear the consequences.\n",
      "\n",
      "Raskolnikov's life becomes even more complicated when he is accused of owing money to a widow. Although he is cleared of the accusation, the incident leads to a heated argument in a government office, highlighting the power dynamics and tensions within the institution.\n",
      "\n",
      "As the story unfolds, Raskolnikov becomes involved in a murder investigation, where he hints at his knowledge of the crime during a conversation with Zametov, the head clerk. His fascination with crime and his ability to analyze criminal acts from a detached perspective are revealed.\n",
      "\n",
      "The novel reaches a poignant moment when Marmeladov is fatally injured in an accident. Raskolnikov takes charge of the situation, sending for a doctor and trying to reassure Marmeladov's distraught wife. The scene captures the emotional turmoil and desperation of the characters as they grapple with the tragedy.\n",
      "\n",
      "Overall, \"Crime and Punishment\" is a profound exploration of the human condition, delving into the complexities of guilt, redemption, and the consequences of one's actions. The characters' struggles with poverty, sacrifice, and moral dilemmas serve as a stark reminder of the fragility of life and the resilience of the human spirit in the face of adversity.\n"
     ]
    }
   ],
   "source": [
    "print (output)\n"
   ]
  },
  {
   "cell_type": "code",
   "execution_count": 124,
   "metadata": {},
   "outputs": [
    {
     "name": "stdout",
     "output_type": "stream",
     "text": [
      "PDF saved to output.pdf\n"
     ]
    }
   ],
   "source": [
    "from fpdf import FPDF\n",
    "\n",
    "def text_to_pdf(text, output_path):\n",
    "    pdf = FPDF()\n",
    "    pdf.add_page()\n",
    "    pdf.set_auto_page_break(auto=True, margin=15)\n",
    "    pdf.set_font(\"Arial\", size=12)\n",
    "\n",
    "    pdf.set_left_margin(10)\n",
    "    pdf.set_right_margin(10)\n",
    "    \n",
    "    pdf.multi_cell(0, 10, txt=text)\n",
    "    \n",
    "    pdf.output(output_path)\n",
    "\n",
    "\n",
    "\n",
    "\n",
    "output_pdf_path = \"output.pdf\"\n",
    "text_to_pdf(output, output_pdf_path)\n",
    "print(f\"PDF saved to {output_pdf_path}\")\n"
   ]
  }
 ],
 "metadata": {
  "kernelspec": {
   "display_name": "ragui",
   "language": "python",
   "name": "python3"
  },
  "language_info": {
   "codemirror_mode": {
    "name": "ipython",
    "version": 3
   },
   "file_extension": ".py",
   "mimetype": "text/x-python",
   "name": "python",
   "nbconvert_exporter": "python",
   "pygments_lexer": "ipython3",
   "version": "3.11.8"
  }
 },
 "nbformat": 4,
 "nbformat_minor": 2
}
